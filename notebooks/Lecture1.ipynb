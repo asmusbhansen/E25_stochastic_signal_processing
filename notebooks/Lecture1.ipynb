{
 "cells": [
  {
   "cell_type": "markdown",
   "id": "a9aa5388-3091-4575-a1b5-b2055a86e523",
   "metadata": {},
   "source": [
    "## Lecture Notes"
   ]
  },
  {
   "cell_type": "markdown",
   "id": "1c116501-3df2-4173-a8f4-c7fc9b16ebc2",
   "metadata": {},
   "source": [
    "### Signal Classification\n",
    "\n",
    "**Univariate**  \n",
    "Signals where only one variable is measured from a system. Example: Temperature or pressure.  \n",
    "Notationy=f(x) where input is a scalar and output is a scalar    \n",
    "\n",
    "**Multivariate**  \n",
    "Signals where multiple variable are measured, Example: Both pressure and a temperature.   \n",
    "Notation: x, y = f(a,b) where input is a vector and output is a vector \n",
    "\n",
    "**Multidimensional**  \n",
    "A single signal, made up og several signals. Example: A greyscale picture where the input is the dimensions m,n and the output a value from 0-255  \n",
    "Notation y = f(a,b) where vector is a vector and output is a vector  "
   ]
  },
  {
   "cell_type": "markdown",
   "id": "b6c2b051-6b05-415a-97a7-845a75659b06",
   "metadata": {},
   "source": [
    "### Randomness\n",
    "\n",
    "The lack of complete knowledge/mathematical function of a system. The actual system might not be random, but a limited knowledge might be modelled a randomness.  \n",
    "Example: In weather forecasting, wind speed depends on the atmosphere which is a complex system. We don't model that but treat it as random even thought it might not be random.\n",
    "\n",
    "Can either be: Uncertainty in in process knowledge or uncertainty in measurements."
   ]
  },
  {
   "cell_type": "markdown",
   "id": "63b589af-74c0-495c-8ac3-335f8be7f4b8",
   "metadata": {
    "jp-MarkdownHeadingCollapsed": true
   },
   "source": [
    "### Stochastic signal\n",
    "\n",
    "Given an **ensample**(stochastic process), multiple runs/experiments will most likely yields different **realizations**(outcomes). Example: ¤ tosses of a fair coin.\n",
    "\n",
    "**Key Challenge**\n",
    "Estimating or inferring the stochastic process parameters from a single realization of a process."
   ]
  },
  {
   "cell_type": "markdown",
   "id": "f9546364-ab7c-401c-b910-de32ba1c36e9",
   "metadata": {},
   "source": [
    "### Processing examples\n",
    "\n",
    "**Estimation**  \n",
    "Estimate parameters such as phase, amplitude, mean etc.\n",
    "\n",
    "**Classfication**  \n",
    "What process is this signal comming from\n",
    "\n",
    "**Regression**\n",
    "Given an unseen input value, what is the output value.\n",
    "\n",
    "**Forecasting**  \n",
    "What is the next N values going to be?\n",
    "\n",
    "**Signal esimation(De-noising)**  \n",
    "Estimate the true value of the signal. Remove noise"
   ]
  },
  {
   "cell_type": "markdown",
   "id": "c611d321-34e2-4ace-9fc6-c5382b5b178e",
   "metadata": {
    "jp-MarkdownHeadingCollapsed": true
   },
   "source": [
    "### Random Variables and PDF\n",
    "\n",
    "**Random variable**\n",
    "\n",
    "A function that assigns a number to each outcome of a random experiment\n",
    "\n",
    "**Probability Density Function(PDF)**\n",
    "\n",
    "A fuction that assigns a probability to each of the numbers the random variable can take"
   ]
  },
  {
   "cell_type": "markdown",
   "id": "e36d0be4-73e5-44be-98c0-b1a984736163",
   "metadata": {},
   "source": [
    "### Statistical Regularity\n",
    "\n",
    "How do we assign probabilities to each out come? The answer is **statistical regularity**.  \n",
    "When an an experiment is performed many times, a pattern will develop. That is statistical regularity.  \n",
    "Example: Tossing a fair dice an N times, we will see that we get each side up approximately N/6 times as long as N is large.\n",
    "\n",
    "If $ N_0(n) $ and $ N_1(n) $ is the number of times we get heads an tails respectively in n trials. We define the relative frequency as  \n",
    "$$\n",
    "f_k(n)=\\frac{N_k(n)}{N}\n",
    "$$\n",
    "\n",
    "Then statisctical regularity implies that\n",
    "\n",
    "$$\n",
    "\\lim_{n \\to \\infty} f_k(n)=p_k\n",
    "$$"
   ]
  },
  {
   "cell_type": "markdown",
   "id": "d3c721d0-b778-4aef-b0ba-c2762e9fd709",
   "metadata": {},
   "source": [
    "## Problems"
   ]
  },
  {
   "cell_type": "markdown",
   "id": "bb984676-43c5-46cd-a755-85c9bcbc23b6",
   "metadata": {},
   "source": [
    "### Problem 1.7\n",
    "\n",
    "**Problem**\n",
    "\n",
    "Let A be an event associated with outcomes of a random experiment, and let the event B  \n",
    "be defined as “event A does not occur.” Show that $f_B(n)=1-f_A(n)$\n",
    "\n",
    "**Solution**\n",
    "\n",
    "Let $B = \\overline{A}$ \n",
    "\n",
    "We define the sample space as $\\Omega = A \\cup B = A \\cup \\overline{A}$\n",
    "\n",
    "From definition we know that $A \\cup \\overline{A} = \\emptyset$ where $\\emptyset$ is the empty set and that $P(A \\cap  \\overline{A}) = 0$\n",
    "\n",
    "From probability axioms we have  \n",
    "1. $P(A \\cup \\overline{A}) = P(A) + P(\\overline{A}) $ since they are mutually exclusive\n",
    "2. $P(\\Omega)=P(A \\cup \\overline{A})=1$\n",
    "\n",
    "Hence: $P(A \\cup \\overline{A}) = P(A) + P(\\overline{A}) = 1$  \n",
    "And: $P(\\overline{A})= P(B)=1 - P(A)$ \n"
   ]
  }
 ],
 "metadata": {
  "kernelspec": {
   "display_name": "Python 3 (ipykernel)",
   "language": "python",
   "name": "python3"
  },
  "language_info": {
   "codemirror_mode": {
    "name": "ipython",
    "version": 3
   },
   "file_extension": ".py",
   "mimetype": "text/x-python",
   "name": "python",
   "nbconvert_exporter": "python",
   "pygments_lexer": "ipython3",
   "version": "3.11.13"
  }
 },
 "nbformat": 4,
 "nbformat_minor": 5
}
